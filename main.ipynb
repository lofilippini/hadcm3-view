{
 "cells": [
  {
   "cell_type": "code",
   "execution_count": 39,
   "metadata": {},
   "outputs": [],
   "source": [
    "from imports import *\n",
    "from funcs import *\n",
    "\n",
    "import funcs as myfuncs\n",
    "import funcs as myimps\n",
    "\n",
    "import importlib\n",
    "\n",
    "importlib.reload(myfuncs);\n",
    "importlib.reload(myimps);"
   ]
  },
  {
   "cell_type": "code",
   "execution_count": 50,
   "metadata": {},
   "outputs": [
    {
     "data": {
      "text/plain": [
       "<Figure size 1000x2000 with 0 Axes>"
      ]
     },
     "metadata": {},
     "output_type": "display_data"
    },
    {
     "data": {
      "application/vnd.jupyter.widget-view+json": {
       "model_id": "67e7e5bed1ca440e98a21c4e29d0751f",
       "version_major": 2,
       "version_minor": 0
      },
      "text/plain": [
       "interactive(children=(SelectionSlider(continuous_update=False, description='Month', options=('Jan', 'Feb', 'Ma…"
      ]
     },
     "metadata": {},
     "output_type": "display_data"
    }
   ],
   "source": [
    "climate_var = \"climate-data\\A2\\HADCM3_A2b_TEMP_2050.dif\"\n",
    "\n",
    "global temps_mat\n",
    "\n",
    "temps_mat = conv(climate_var)[0]\n",
    "temps_df = conv(climate_var)[1]\n",
    "\n",
    "month_dict = dict(zip(month, range(0,12)))\n",
    "\n",
    "fig = plt.figure()\n",
    "plt.rcParams['figure.figsize'] = [10, 20]\n",
    "\n",
    "def plotter(month):\n",
    "    ax = plt.axes(projection=ccrs.PlateCarree())\n",
    "\n",
    "    data, lons = add_cyclic_point(temps_mat[month_dict[month]], coord = longitudes)\n",
    "\n",
    "    maxv = np.max(temps_mat)\n",
    "    minv = np.min(temps_mat)\n",
    "    dif = maxv - minv\n",
    "\n",
    "    if 'WIND' in climate_var:\n",
    "        cs = ax.contourf(lons, latwind, data, levels = np.arange(minv, maxv, dif/10),\n",
    "            transform = ccrs.PlateCarree(),cmap='Blues',extend='both')\n",
    "        \n",
    "        cb = plt.colorbar(cs, ticks = cs.levels, orientation = 'horizontal', location = 'top', \n",
    "                shrink = 0.75, aspect = 50, pad = 0.01)\n",
    "        cb.set_label('Scalar Wind Speed Gradient [m/g]', fontsize = 8)\n",
    "        cb.ax.tick_params(labelsize=8)\n",
    "    \n",
    "    else:\n",
    "        cs = ax.contourf(lons, latitudes, data, levels = np.arange(minv, maxv, dif/10),\n",
    "            transform = ccrs.PlateCarree(),cmap='Reds',extend='both')\n",
    "        \n",
    "        cb = plt.colorbar(cs, ticks = cs.levels, orientation = 'horizontal', location = 'top', \n",
    "                shrink = 0.75, aspect = 50, pad = 0.01)\n",
    "        cb.set_label('Daily Mean Temperature Difference [°C]', fontsize = 8)\n",
    "        cb.ax.tick_params(labelsize=8)\n",
    "        \n",
    "\n",
    "\n",
    "\n",
    "    ax.coastlines()\n",
    "\n",
    "    ax.set_xticks(np.arange(-180,181,30), crs=ccrs.PlateCarree())\n",
    "    lon_formatter = cticker.LongitudeFormatter()\n",
    "    ax.xaxis.set_major_formatter(lon_formatter)\n",
    "\n",
    "    ax.set_yticks(np.arange(-90,91,15), crs=ccrs.PlateCarree())    \n",
    "    lat_formatter = cticker.LatitudeFormatter()\n",
    "    ax.yaxis.set_major_formatter(lat_formatter)\n",
    "\n",
    "\n",
    "    ax.tick_params(axis='both', which='major', labelsize=8)\n",
    "\n",
    "    ax.gridlines()\n",
    "    plt.rcParams['figure.figsize'] = [10, 20]\n",
    "\n",
    "    return \n",
    "\n",
    "month_slider = widgets.SelectionSlider(\n",
    "    options=month,\n",
    "    value='Jan',\n",
    "    description='Month',\n",
    "    disabled=False,\n",
    "    continuous_update=False,\n",
    "    orientation='horizontal',\n",
    "    readout=True\n",
    ")\n",
    "\n",
    "'''month_slider = widgets.IntSlider(\n",
    "                value=0,\n",
    "                min=0,\n",
    "                max=11,\n",
    "                step=1,\n",
    "                continuous_update=True,\n",
    "                readout=True,\n",
    "                description = 'Month',)'''\n",
    "    \n",
    "interact(plotter, month = month_slider)\n",
    "\n",
    "#\n",
    "plt.show()\n"
   ]
  }
 ],
 "metadata": {
  "kernelspec": {
   "display_name": "Python 3 (ipykernel)",
   "language": "python",
   "name": "python3"
  },
  "language_info": {
   "codemirror_mode": {
    "name": "ipython",
    "version": 3
   },
   "file_extension": ".py",
   "mimetype": "text/x-python",
   "name": "python",
   "nbconvert_exporter": "python",
   "pygments_lexer": "ipython3",
   "version": "3.9.16"
  }
 },
 "nbformat": 4,
 "nbformat_minor": 2
}
