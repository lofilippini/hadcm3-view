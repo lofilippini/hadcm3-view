{
 "cells": [
  {
   "cell_type": "code",
   "execution_count": 1,
   "metadata": {},
   "outputs": [],
   "source": [
    "from imports import *\n",
    "from funcs import *"
   ]
  },
  {
   "cell_type": "code",
   "execution_count": null,
   "metadata": {},
   "outputs": [],
   "source": [
    "import os  \n",
    "\n",
    "files_dir = r\"climate-data\\\\A2\" \n",
    "files = os.listdir(files_dir) \n",
    "\n",
    "for file in files:\n",
    "    name = os.path.splitext(file)[0]\n",
    "    extension = os.path.splitext(file)[1]\n",
    "\n",
    "    if extension == '.dif' and (('WIND' in name) == False):\n",
    "        #filename = os.path.join(files_dir, file)\n",
    "        df = conv(f'climate-data\\A2\\{file}')[1]\n",
    "        new_filename = name + '.csv'\n",
    "        df.to_csv(f\"csv-data\\A2\\{new_filename}\", index=True)"
   ]
  },
  {
   "cell_type": "code",
   "execution_count": 2,
   "metadata": {},
   "outputs": [
    {
     "data": {
      "text/plain": [
       "<Figure size 640x480 with 0 Axes>"
      ]
     },
     "metadata": {},
     "output_type": "display_data"
    },
    {
     "data": {
      "application/vnd.jupyter.widget-view+json": {
       "model_id": "23ba745b1d1740d6bac215db1c5e81f1",
       "version_major": 2,
       "version_minor": 0
      },
      "text/plain": [
       "interactive(children=(SelectionSlider(continuous_update=False, description='Month', options=('Jan', 'Feb', 'Ma…"
      ]
     },
     "metadata": {},
     "output_type": "display_data"
    }
   ],
   "source": [
    "climate_var = \"climate-data\\A2\\HADCM3_A2c_TEMP_2020.dif\"\n",
    "\n",
    "global temps_mat\n",
    "\n",
    "temps_mat = conv(climate_var)[0]\n",
    "temps_df = conv(climate_var)[1]\n",
    "\n",
    "month_dict = dict(zip(month, range(0,12)))\n",
    "\n",
    "fig = plt.figure()\n",
    "plt.rcParams['figure.figsize'] = [10, 20]\n",
    "\n",
    "def plotter(month):\n",
    "    ax = plt.axes(projection=ccrs.PlateCarree())\n",
    "\n",
    "    data, lons = add_cyclic_point(temps_mat[month_dict[month]], coord = longitudes)\n",
    "\n",
    "    if 'WIND' in climate_var:\n",
    "        cs = ax.contourf(lons, latwind, data, levels = np.arange(-6, 14, 1.5),\n",
    "            transform = ccrs.PlateCarree(),cmap='Reds',extend='both')\n",
    "    \n",
    "    else:\n",
    "        cs = ax.contourf(lons, latitudes, data, levels = np.arange(-6, 14, 1.5),\n",
    "            transform = ccrs.PlateCarree(),cmap='Reds',extend='both')\n",
    "        \n",
    "\n",
    "    cb = plt.colorbar(cs, ticks = cs.levels, orientation = 'horizontal', location = 'top', \n",
    "                      shrink = 0.75, aspect = 50, pad = 0.01)\n",
    "    cb.set_label('Temperature Difference [°C]', fontsize = 8)\n",
    "    cb.ax.tick_params(labelsize=8)\n",
    "\n",
    "    ax.coastlines()\n",
    "\n",
    "    ax.set_xticks(np.arange(-180,181,30), crs=ccrs.PlateCarree())\n",
    "    lon_formatter = cticker.LongitudeFormatter()\n",
    "    ax.xaxis.set_major_formatter(lon_formatter)\n",
    "\n",
    "    ax.set_yticks(np.arange(-90,91,15), crs=ccrs.PlateCarree())    \n",
    "    lat_formatter = cticker.LatitudeFormatter()\n",
    "    ax.yaxis.set_major_formatter(lat_formatter)\n",
    "\n",
    "\n",
    "    ax.tick_params(axis='both', which='major', labelsize=8)\n",
    "\n",
    "    ax.gridlines()\n",
    "    plt.rcParams['figure.figsize'] = [10, 20]\n",
    "\n",
    "    return \n",
    "\n",
    "month_slider = widgets.SelectionSlider(\n",
    "    options=month,\n",
    "    value='Jan',\n",
    "    description='Month',\n",
    "    disabled=False,\n",
    "    continuous_update=False,\n",
    "    orientation='horizontal',\n",
    "    readout=True\n",
    ")\n",
    "\n",
    "'''month_slider = widgets.IntSlider(\n",
    "                value=0,\n",
    "                min=0,\n",
    "                max=11,\n",
    "                step=1,\n",
    "                continuous_update=True,\n",
    "                readout=True,\n",
    "                description = 'Month',)'''\n",
    "    \n",
    "interact(plotter, month = month_slider)\n",
    "\n",
    "#\n",
    "plt.show()\n"
   ]
  },
  {
   "cell_type": "code",
   "execution_count": 7,
   "metadata": {},
   "outputs": [
    {
     "ename": "IndexError",
     "evalue": "tuple index out of range",
     "output_type": "error",
     "traceback": [
      "\u001b[1;31m---------------------------------------------------------------------------\u001b[0m",
      "\u001b[1;31mIndexError\u001b[0m                                Traceback (most recent call last)",
      "Cell \u001b[1;32mIn[7], line 5\u001b[0m\n\u001b[0;32m      1\u001b[0m climate_var \u001b[39m=\u001b[39m \u001b[39m\"\u001b[39m\u001b[39mclimate-data\u001b[39m\u001b[39m\\\u001b[39m\u001b[39mA2\u001b[39m\u001b[39m\\\u001b[39m\u001b[39mHADCM3_A2c_TEMP_2020.dif\u001b[39m\u001b[39m\"\u001b[39m\n\u001b[0;32m      3\u001b[0m \u001b[39mfrom\u001b[39;00m \u001b[39mfuncs\u001b[39;00m \u001b[39mimport\u001b[39;00m \u001b[39m*\u001b[39m\n\u001b[1;32m----> 5\u001b[0m var \u001b[39m=\u001b[39m conv(climate_var)[\u001b[39m2\u001b[39;49m]\n\u001b[0;32m      6\u001b[0m var\n",
      "\u001b[1;31mIndexError\u001b[0m: tuple index out of range"
     ]
    }
   ],
   "source": [
    "climate_var = \"climate-data\\A2\\HADCM3_A2c_TEMP_2020.dif\"\n",
    "\n",
    "from funcs import *\n",
    "\n",
    "var = conv(climate_var)[2]\n",
    "var"
   ]
  }
 ],
 "metadata": {
  "kernelspec": {
   "display_name": "base",
   "language": "python",
   "name": "python3"
  },
  "language_info": {
   "codemirror_mode": {
    "name": "ipython",
    "version": 3
   },
   "file_extension": ".py",
   "mimetype": "text/x-python",
   "name": "python",
   "nbconvert_exporter": "python",
   "pygments_lexer": "ipython3",
   "version": "3.9.16"
  },
  "orig_nbformat": 4
 },
 "nbformat": 4,
 "nbformat_minor": 2
}
