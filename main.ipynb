{
 "cells": [
  {
   "cell_type": "code",
   "execution_count": 8,
   "metadata": {},
   "outputs": [],
   "source": [
    "from imports import *\n",
    "from funcs import *"
   ]
  },
  {
   "cell_type": "code",
   "execution_count": 19,
   "metadata": {},
   "outputs": [
    {
     "data": {
      "text/plain": [
       "<Figure size 1000x2000 with 0 Axes>"
      ]
     },
     "metadata": {},
     "output_type": "display_data"
    },
    {
     "data": {
      "application/vnd.jupyter.widget-view+json": {
       "model_id": "b32491c4559841c6800950b8bc7a0abd",
       "version_major": 2,
       "version_minor": 0
      },
      "text/plain": [
       "interactive(children=(SelectionSlider(continuous_update=False, description='Month', options=('Jan', 'Feb', 'Ma…"
      ]
     },
     "metadata": {},
     "output_type": "display_data"
    }
   ],
   "source": [
    "climate_var = \"climate-data\\A2\\HADCM3_A2c_WIND_2020.dif\"\n",
    "\n",
    "global temps_mat\n",
    "\n",
    "temps_mat = conv(climate_var)[0]\n",
    "temps_df = conv(climate_var)[1]\n",
    "\n",
    "month_dict = dict(zip(month, range(0,12)))\n",
    "\n",
    "fig = plt.figure()\n",
    "plt.rcParams['figure.figsize'] = [10, 20]\n",
    "\n",
    "def plotter(month):\n",
    "    ax = plt.axes(projection=ccrs.PlateCarree())\n",
    "\n",
    "    data, lons = add_cyclic_point(temps_mat[month_dict[month]], coord = longitudes)\n",
    "\n",
    "    if 'WIND' in climate_var:\n",
    "        cs = ax.contourf(lons, latwind, data, levels = np.arange(np.min(temps_mat), np.max(temps_mat), 0.25),\n",
    "            transform = ccrs.PlateCarree(),cmap='Reds',extend='both')\n",
    "    \n",
    "    else:\n",
    "        cs = ax.contourf(lons, latitudes, data, levels = np.arange(-6, 14, 1.5),\n",
    "            transform = ccrs.PlateCarree(),cmap='Reds',extend='both')\n",
    "        \n",
    "\n",
    "    cb = plt.colorbar(cs, ticks = cs.levels, orientation = 'horizontal', location = 'top', \n",
    "                      shrink = 0.75, aspect = 50, pad = 0.01)\n",
    "    cb.set_label('Temperature Difference [°C]', fontsize = 8)\n",
    "    cb.ax.tick_params(labelsize=8)\n",
    "\n",
    "    ax.coastlines()\n",
    "\n",
    "    ax.set_xticks(np.arange(-180,181,30), crs=ccrs.PlateCarree())\n",
    "    lon_formatter = cticker.LongitudeFormatter()\n",
    "    ax.xaxis.set_major_formatter(lon_formatter)\n",
    "\n",
    "    ax.set_yticks(np.arange(-90,91,15), crs=ccrs.PlateCarree())    \n",
    "    lat_formatter = cticker.LatitudeFormatter()\n",
    "    ax.yaxis.set_major_formatter(lat_formatter)\n",
    "\n",
    "\n",
    "    ax.tick_params(axis='both', which='major', labelsize=8)\n",
    "\n",
    "    ax.gridlines()\n",
    "    plt.rcParams['figure.figsize'] = [10, 20]\n",
    "\n",
    "    return \n",
    "\n",
    "month_slider = widgets.SelectionSlider(\n",
    "    options=month,\n",
    "    value='Jan',\n",
    "    description='Month',\n",
    "    disabled=False,\n",
    "    continuous_update=False,\n",
    "    orientation='horizontal',\n",
    "    readout=True\n",
    ")\n",
    "\n",
    "'''month_slider = widgets.IntSlider(\n",
    "                value=0,\n",
    "                min=0,\n",
    "                max=11,\n",
    "                step=1,\n",
    "                continuous_update=True,\n",
    "                readout=True,\n",
    "                description = 'Month',)'''\n",
    "    \n",
    "interact(plotter, month = month_slider)\n",
    "\n",
    "#\n",
    "plt.show()\n"
   ]
  },
  {
   "cell_type": "code",
   "execution_count": 36,
   "metadata": {},
   "outputs": [
    {
     "data": {
      "text/plain": [
       "(array([[[ 5.22,  5.22,  5.22, ...,  5.22,  5.22,  5.22],\n",
       "         [ 5.61,  5.43,  5.53, ...,  5.67,  5.78,  5.87],\n",
       "         [ 6.73,  5.93,  6.06, ...,  6.12,  6.94,  7.59],\n",
       "         ...,\n",
       "         [ 0.49,  0.47,  0.48, ...,  0.36,  0.4 ,  0.47],\n",
       "         [ 0.52,  0.52,  0.51, ...,  0.5 ,  0.55,  0.55],\n",
       "         [ 0.6 ,  0.6 ,  0.6 , ...,  0.6 ,  0.6 ,  0.6 ]],\n",
       " \n",
       "        [[ 2.55,  2.55,  2.55, ...,  2.55,  2.55,  2.55],\n",
       "         [ 2.  ,  1.93,  2.15, ...,  2.13,  2.23,  2.2 ],\n",
       "         [ 3.8 ,  3.  ,  3.24, ...,  3.28,  4.02,  4.49],\n",
       "         ...,\n",
       "         [ 1.11,  1.17,  1.18, ...,  0.75,  0.89,  1.  ],\n",
       "         [ 1.18,  1.19,  1.18, ...,  1.01,  1.08,  1.15],\n",
       "         [ 1.06,  1.06,  1.06, ...,  1.06,  1.06,  1.06]],\n",
       " \n",
       "        [[ 3.09,  3.09,  3.09, ...,  3.09,  3.09,  3.09],\n",
       "         [ 2.99,  3.07,  3.3 , ...,  3.  ,  3.04,  3.02],\n",
       "         [ 4.28,  4.03,  4.31, ...,  4.27,  4.26,  4.56],\n",
       "         ...,\n",
       "         [ 2.01,  1.9 ,  1.76, ...,  2.02,  2.05,  2.07],\n",
       "         [ 2.07,  2.02,  1.96, ...,  2.2 ,  2.21,  2.15],\n",
       "         [ 1.84,  1.84,  1.84, ...,  1.84,  1.84,  1.84]],\n",
       " \n",
       "        ...,\n",
       " \n",
       "        [[ 6.04,  6.04,  6.04, ...,  6.04,  6.04,  6.04],\n",
       "         [ 6.88,  6.76,  6.61, ...,  7.12,  7.19,  7.04],\n",
       "         [ 9.09,  8.96,  8.85, ..., 10.26, 10.14,  9.48],\n",
       "         ...,\n",
       "         [ 2.09,  1.97,  1.93, ...,  2.06,  2.06,  2.1 ],\n",
       "         [ 2.28,  2.31,  2.3 , ...,  2.31,  2.38,  2.35],\n",
       "         [ 1.68,  1.68,  1.68, ...,  1.68,  1.68,  1.68]],\n",
       " \n",
       "        [[ 6.55,  6.55,  6.55, ...,  6.55,  6.55,  6.55],\n",
       "         [ 6.55,  6.52,  6.63, ...,  6.87,  7.16,  6.96],\n",
       "         [ 8.98,  8.74,  9.14, ...,  9.47, 10.56, 10.03],\n",
       "         ...,\n",
       "         [ 1.06,  1.02,  0.97, ...,  0.82,  0.94,  1.06],\n",
       "         [ 1.2 ,  1.25,  1.3 , ...,  0.96,  1.09,  1.15],\n",
       "         [ 0.76,  0.76,  0.76, ...,  0.76,  0.76,  0.76]],\n",
       " \n",
       "        [[ 5.86,  5.86,  5.86, ...,  5.86,  5.86,  5.86],\n",
       "         [ 6.08,  5.99,  6.06, ...,  6.19,  6.38,  6.34],\n",
       "         [ 6.01,  5.38,  5.37, ...,  6.04,  7.  ,  7.22],\n",
       "         ...,\n",
       "         [ 1.36,  1.38,  1.36, ...,  1.08,  1.2 ,  1.27],\n",
       "         [ 1.17,  1.12,  1.1 , ...,  0.67,  0.83,  1.07],\n",
       "         [ 0.82,  0.82,  0.82, ...,  0.82,  0.82,  0.82]]]),\n",
       "        Jan   Feb   Mar   Apr   May   Jun   Jul   Aug   Sep   Oct   Nov   Dec  \\\n",
       " 0     5.22  2.55  3.09  2.19  1.39 -0.01 -0.01  0.11  5.15  6.04  6.55  5.86   \n",
       " 1     5.22  2.55  3.09  2.19  1.39 -0.01 -0.01  0.11  5.15  6.04  6.55  5.86   \n",
       " 2     5.22  2.55  3.09  2.19  1.39 -0.01 -0.01  0.11  5.15  6.04  6.55  5.86   \n",
       " 3     5.22  2.55  3.09  2.19  1.39 -0.01 -0.01  0.11  5.15  6.04  6.55  5.86   \n",
       " 4     5.22  2.55  3.09  2.19  1.39 -0.01 -0.01  0.11  5.15  6.04  6.55  5.86   \n",
       " ...    ...   ...   ...   ...   ...   ...   ...   ...   ...   ...   ...   ...   \n",
       " 7003  0.60  1.06  1.84  3.35  2.72  1.42  2.66  0.33  0.64  1.68  0.76  0.82   \n",
       " 7004  0.60  1.06  1.84  3.35  2.72  1.42  2.66  0.33  0.64  1.68  0.76  0.82   \n",
       " 7005  0.60  1.06  1.84  3.35  2.72  1.42  2.66  0.33  0.64  1.68  0.76  0.82   \n",
       " 7006  0.60  1.06  1.84  3.35  2.72  1.42  2.66  0.33  0.64  1.68  0.76  0.82   \n",
       " 7007  0.60  1.06  1.84  3.35  2.72  1.42  2.66  0.33  0.64  1.68  0.76  0.82   \n",
       " \n",
       "       Longitude  Latitude  \n",
       " 0          0.00      90.0  \n",
       " 1          3.75      90.0  \n",
       " 2          7.50      90.0  \n",
       " 3         11.25      90.0  \n",
       " 4         15.00      90.0  \n",
       " ...         ...       ...  \n",
       " 7003     341.25     -90.0  \n",
       " 7004     345.00     -90.0  \n",
       " 7005     348.75     -90.0  \n",
       " 7006     352.50     -90.0  \n",
       " 7007     356.25     -90.0  \n",
       " \n",
       " [7008 rows x 14 columns])"
      ]
     },
     "execution_count": 36,
     "metadata": {},
     "output_type": "execute_result"
    }
   ],
   "source": [
    "climate_var = \"climate-data\\A2\\HADCM3_A2c_TEMP_2020.dif\"\n",
    "\n",
    "from funcs import *\n",
    "\n",
    "var = conv(climate_var)\n",
    "var"
   ]
  }
 ],
 "metadata": {
  "kernelspec": {
   "display_name": "base",
   "language": "python",
   "name": "python3"
  },
  "language_info": {
   "codemirror_mode": {
    "name": "ipython",
    "version": 3
   },
   "file_extension": ".py",
   "mimetype": "text/x-python",
   "name": "python",
   "nbconvert_exporter": "python",
   "pygments_lexer": "ipython3",
   "version": "3.9.16"
  },
  "orig_nbformat": 4
 },
 "nbformat": 4,
 "nbformat_minor": 2
}
