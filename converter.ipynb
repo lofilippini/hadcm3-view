{
 "cells": [
  {
   "cell_type": "code",
   "execution_count": 37,
   "metadata": {},
   "outputs": [
    {
     "ename": "AttributeError",
     "evalue": "'float' object has no attribute 'to_csv'",
     "output_type": "error",
     "traceback": [
      "\u001b[1;31m---------------------------------------------------------------------------\u001b[0m",
      "\u001b[1;31mAttributeError\u001b[0m                            Traceback (most recent call last)",
      "Cell \u001b[1;32mIn[37], line 14\u001b[0m\n\u001b[0;32m     12\u001b[0m df \u001b[39m=\u001b[39m conv(\u001b[39mf\u001b[39m\u001b[39m'\u001b[39m\u001b[39mclimate-data\u001b[39m\u001b[39m\\\u001b[39m\u001b[39mA2\u001b[39m\u001b[39m\\\u001b[39m\u001b[39m{\u001b[39;00mfile\u001b[39m}\u001b[39;00m\u001b[39m'\u001b[39m)[\u001b[39m1\u001b[39m]\n\u001b[0;32m     13\u001b[0m new_filename \u001b[39m=\u001b[39m name \u001b[39m+\u001b[39m \u001b[39m'\u001b[39m\u001b[39m.csv\u001b[39m\u001b[39m'\u001b[39m\n\u001b[1;32m---> 14\u001b[0m df\u001b[39m.\u001b[39;49mto_csv(\u001b[39mf\u001b[39m\u001b[39m\"\u001b[39m\u001b[39mcsv-data\u001b[39m\u001b[39m\\\u001b[39m\u001b[39mA2\u001b[39m\u001b[39m\\\u001b[39m\u001b[39m{\u001b[39;00mnew_filename\u001b[39m}\u001b[39;00m\u001b[39m\"\u001b[39m, index\u001b[39m=\u001b[39m\u001b[39mTrue\u001b[39;00m)\n",
      "\u001b[1;31mAttributeError\u001b[0m: 'float' object has no attribute 'to_csv'"
     ]
    }
   ],
   "source": [
    "from imports import *\n",
    "from funcs import *\n",
    "\n",
    "files_dir = r\"climate-data\\\\A2\" \n",
    "files = os.listdir(files_dir) \n",
    "\n",
    "for file in files:\n",
    "    name = os.path.splitext(file)[0]\n",
    "    extension = os.path.splitext(file)[1]\n",
    "\n",
    "    if extension == '.dif':\n",
    "        df = conv(f'climate-data\\A2\\{file}')[1]\n",
    "        new_filename = name + '.csv'\n",
    "        df.to_csv(f\"csv-data\\A2\\{new_filename}\", index=True)"
   ]
  }
 ],
 "metadata": {
  "kernelspec": {
   "display_name": "ve_climate",
   "language": "python",
   "name": "python3"
  },
  "language_info": {
   "codemirror_mode": {
    "name": "ipython",
    "version": 3
   },
   "file_extension": ".py",
   "mimetype": "text/x-python",
   "name": "python",
   "nbconvert_exporter": "python",
   "pygments_lexer": "ipython3",
   "version": "3.9.16"
  },
  "orig_nbformat": 4
 },
 "nbformat": 4,
 "nbformat_minor": 2
}
