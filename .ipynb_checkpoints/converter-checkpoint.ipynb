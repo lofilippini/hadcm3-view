{
 "cells": [
  {
   "cell_type": "code",
   "execution_count": 73,
   "metadata": {},
   "outputs": [],
   "source": [
    "from imports import *\n",
    "from funcs import *\n",
    "\n",
    "import funcs as myfuncs\n",
    "import funcs as myimps\n",
    "\n",
    "import importlib\n",
    "\n",
    "importlib.reload(myfuncs);\n",
    "importlib.reload(myimps);"
   ]
  },
  {
   "cell_type": "code",
   "execution_count": 75,
   "metadata": {},
   "outputs": [],
   "source": [
    "files_dir = \"climate-data\\\\A2\" \n",
    "files = os.listdir(files_dir) \n",
    "\n",
    "for file in files:\n",
    "    name = os.path.splitext(file)[0]\n",
    "    extension = os.path.splitext(file)[1]\n",
    "\n",
    "    df = conv(f'climate-data\\A2\\{file}')[1]\n",
    "    new_filename = name + '.csv'\n",
    "    df.to_csv(f\"csv-data\\A2\\{new_filename}\", index=True)"
   ]
  }
 ],
 "metadata": {
  "kernelspec": {
   "display_name": "Python 3 (ipykernel)",
   "language": "python",
   "name": "python3"
  },
  "language_info": {
   "codemirror_mode": {
    "name": "ipython",
    "version": 3
   },
   "file_extension": ".py",
   "mimetype": "text/x-python",
   "name": "python",
   "nbconvert_exporter": "python",
   "pygments_lexer": "ipython3",
   "version": "3.9.16"
  }
 },
 "nbformat": 4,
 "nbformat_minor": 2
}
